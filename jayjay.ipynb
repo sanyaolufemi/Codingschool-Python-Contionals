{
 "cells": [
  {
   "cell_type": "code",
   "execution_count": null,
   "metadata": {},
   "outputs": [],
   "source": [
    "def SI():\n",
    "    print(\"you can only do this program three times\")\n",
    "    times=3\n",
    "    for n  in range(times):\n",
    "\n",
    "     P= int(input(\" Enter the principal: \"))\n",
    "     R = int(input(\" Enter the rate: \"))\n",
    "     T = int(input(\" Enter the time: \"))\n",
    "\n",
    "     SI = (P*R*T)/100\n",
    "     \n",
    "     print(f\"the SI is {SI}\")\n",
    "     print(f\"this is the {n+1} time\")\n"
   ]
  },
  {
   "cell_type": "code",
   "execution_count": null,
   "metadata": {},
   "outputs": [],
   "source": [
    "def AOT():\n",
    "    \n",
    "    print(\"you want to do AOT: \\n\")\n",
    "    B = int(input(\" Enter the Base: \"))\n",
    "    H = int(input(\" Enter the rate: \"))\n",
    "    AOT= 1/2*B*H\n",
    "    print(f\"the AOT is {AOT}\")\n",
    "\n"
   ]
  },
  {
   "cell_type": "code",
   "execution_count": null,
   "metadata": {},
   "outputs": [],
   "source": [
    "Password=123\n",
    "Userpass=int(input(\"Enter Password: \"))\n",
    "if Userpass==Password:\n",
    "    loop()\n",
    "else:\n",
    "    print(\"Password Incorrect, Try Again\")"
   ]
  }
 ],
 "metadata": {
  "language_info": {
   "name": "python"
  }
 },
 "nbformat": 4,
 "nbformat_minor": 2
}
