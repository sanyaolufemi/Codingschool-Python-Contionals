{
 "cells": [
  {
   "cell_type": "code",
   "execution_count": 10,
   "metadata": {},
   "outputs": [
    {
     "name": "stdout",
     "output_type": "stream",
     "text": [
      "Password Incorrect, Try Again\n"
     ]
    }
   ],
   "source": [
    "Password=123456\n",
    "Userpass=int(input(\"Enter Password: \"))\n",
    "if Userpass==Password:\n",
    "    print(\"Access Granted\")\n",
    "else:\n",
    "    print(\"Password Incorrect, Try Again\")\n",
    "\n"
   ]
  },
  {
   "cell_type": "code",
   "execution_count": 9,
   "metadata": {},
   "outputs": [
    {
     "name": "stdout",
     "output_type": "stream",
     "text": [
      "3\n"
     ]
    }
   ],
   "source": [
    "print(3)"
   ]
  },
  {
   "cell_type": "markdown",
   "metadata": {},
   "source": [
    "Now we define a function (small()): \n"
   ]
  },
  {
   "cell_type": "code",
   "execution_count": 11,
   "metadata": {},
   "outputs": [],
   "source": [
    "def small():\n",
    "    print(\"you chose to find the smallest of 5 numbers\")\n",
    "    n1=int(input(\"Enter num1: \"))\n",
    "    n2=int(input(\"Enter num2: \"))\n",
    "    n3=int(input(\"Enter num3: \"))\n",
    "    n4=int(input(\"Enter num4: \"))\n",
    "    n5=int(input(\"Enter num5: \"))\n",
    "    smallestnum=min(n1,n2,n3,n4,n5)\n",
    "    print(f\"The smallest of 5 numbers is {smallestnum}\")"
   ]
  },
  {
   "cell_type": "code",
   "execution_count": 12,
   "metadata": {},
   "outputs": [
    {
     "name": "stdout",
     "output_type": "stream",
     "text": [
      "you chose to find the smallest of 5 numbers\n",
      "The smallest of 5 numbers is 1\n"
     ]
    }
   ],
   "source": [
    "small()"
   ]
  },
  {
   "cell_type": "code",
   "execution_count": 14,
   "metadata": {},
   "outputs": [],
   "source": [
    "def SI():\n",
    "    print(\"you want to do SI: \\n\")\n",
    "    P = int(input(\" Enter the principal: \"))\n",
    "    R = int(input(\" Enter the rate: \"))\n",
    "    T = int(input(\" Enter the time: \"))\n",
    "\n",
    "    SI = (P*R*T)/100\n",
    "\n",
    "    print(f\"the SI is {SI}\")\n"
   ]
  },
  {
   "cell_type": "code",
   "execution_count": 15,
   "metadata": {},
   "outputs": [
    {
     "name": "stdout",
     "output_type": "stream",
     "text": [
      "you want to do SI: \n",
      "\n",
      "the SI is 83.88\n"
     ]
    }
   ],
   "source": [
    "SI()"
   ]
  },
  {
   "cell_type": "code",
   "execution_count": 17,
   "metadata": {},
   "outputs": [
    {
     "name": "stdout",
     "output_type": "stream",
     "text": [
      "you want to do SI: \n",
      "\n",
      "the SI is 0.24\n",
      " this is the 1 time\n",
      "you want to do SI: \n",
      "\n",
      "the SI is 93.84\n",
      " this is the 2 time\n",
      "you want to do SI: \n",
      "\n",
      "the SI is 33.12\n",
      " this is the 3 time\n"
     ]
    }
   ],
   "source": [
    "times = int(input(\"how many times do yo want to run this?: \"))\n",
    "for n in range(times):\n",
    "    SI()\n",
    "    print(f\" this is the {n+1} time\")"
   ]
  },
  {
   "cell_type": "code",
   "execution_count": 18,
   "metadata": {},
   "outputs": [],
   "source": [
    "def loop():\n",
    "    times = int(input(\"how many times do yo want to run this?: \"))\n",
    "    for n in range(times):\n",
    "        SI()\n",
    "        print(f\" this is the {n+1} time\")"
   ]
  },
  {
   "cell_type": "code",
   "execution_count": 20,
   "metadata": {},
   "outputs": [
    {
     "name": "stdout",
     "output_type": "stream",
     "text": [
      "you want to do SI: \n",
      "\n",
      "the SI is 33.12\n",
      " this is the 1 time\n"
     ]
    }
   ],
   "source": [
    "Password=123\n",
    "Userpass=int(input(\"Enter Password: \"))\n",
    "if Userpass==Password:\n",
    "    loop()\n",
    "else:\n",
    "    print(\"Password Incorrect, Try Again\")"
   ]
  },
  {
   "cell_type": "code",
   "execution_count": null,
   "metadata": {},
   "outputs": [],
   "source": []
  }
 ],
 "metadata": {
  "kernelspec": {
   "display_name": "Python 3",
   "language": "python",
   "name": "python3"
  },
  "language_info": {
   "codemirror_mode": {
    "name": "ipython",
    "version": 3
   },
   "file_extension": ".py",
   "mimetype": "text/x-python",
   "name": "python",
   "nbconvert_exporter": "python",
   "pygments_lexer": "ipython3",
   "version": "3.10.12"
  }
 },
 "nbformat": 4,
 "nbformat_minor": 2
}
