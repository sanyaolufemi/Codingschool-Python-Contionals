{
 "cells": [
  {
   "cell_type": "code",
   "execution_count": 6,
   "metadata": {},
   "outputs": [
    {
     "name": "stdout",
     "output_type": "stream",
     "text": [
      "My car is Toyota. It is a Corolla of the year 2022\n",
      "Chuks car is Benz. It is a CLA of the year 2021\n",
      "Jumoke's car is Marwa. It is a keke of the year 2011\n",
      "daniel's car is Lexus. It is a GTA of the year2015\n"
     ]
    }
   ],
   "source": [
    "class Car:\n",
    "    #creating a method that will be used to initialize the object\n",
    "    def __init__(self, brand, model, year):\n",
    "        self.brand = brand\n",
    "        self.model = model\n",
    "        self.year = year\n",
    "        self.is_runnimg = False\n",
    "    \n",
    "\n",
    "    #Now we create a method or function to define the behaviour of the Object we will create from the Car class\n",
    "    def start_engine(self):\n",
    "        self.is_runnimg =True\n",
    "        print(f\"The {self.brand} {self.model}'s engine is now running\")\n",
    "    \n",
    "\n",
    "#Now to create an instance OR specific example OR specific kind of car, from the class Car\n",
    "my_car = Car(\"Toyota\", \"Corolla\", \"2022\")\n",
    "chuks_car = Car(\"Benz\", \"CLA\",\"2021\")\n",
    "jumoke_car = Car(\"Marwa\", \"keke\", \"2011\")\n",
    "mercy_car = Car(\"vw\", \"golf\", \"2016\" )\n",
    "daniel_car= Car(\"Lexus\", \"GTA\", \"2015\")\n",
    "\n",
    "#Now i want to access the attibutes of features of the car objects created from the class\n",
    "print(f\"My car is {my_car.brand}. It is a {my_car.model} of the year {my_car.year}\")\n",
    "print(f\"Chuks car is {chuks_car.brand}. It is a {chuks_car.model} of the year {chuks_car.year}\")\n",
    "print(f\"Jumoke's car is {jumoke_car.brand}. It is a {jumoke_car.model} of the year {jumoke_car.year}\")\n",
    "print(F\"daniel's car is {daniel_car.brand}. It is a {daniel_car.model} of the year{daniel_car.year}\")\n",
    "\n",
    "\n",
    "\n"
   ]
  }
 ],
 "metadata": {
  "kernelspec": {
   "display_name": "Python 3",
   "language": "python",
   "name": "python3"
  },
  "language_info": {
   "codemirror_mode": {
    "name": "ipython",
    "version": 3
   },
   "file_extension": ".py",
   "mimetype": "text/x-python",
   "name": "python",
   "nbconvert_exporter": "python",
   "pygments_lexer": "ipython3",
   "version": "3.10.12"
  }
 },
 "nbformat": 4,
 "nbformat_minor": 2
}
