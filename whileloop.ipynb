{
 "cells": [
  {
   "cell_type": "code",
   "execution_count": 3,
   "metadata": {},
   "outputs": [
    {
     "name": "stdout",
     "output_type": "stream",
     "text": [
      "0\n",
      "this is the 1 time\n",
      "1\n",
      "this is the 2 time\n",
      "2\n",
      "this is the 3 time\n",
      "3\n",
      "this is the 4 time\n",
      "4\n",
      "this is the 5 time\n"
     ]
    }
   ],
   "source": [
    "count = 0\n",
    "\n",
    "while count<5:\n",
    "    print(count)\n",
    "    print(f\"this is the {count+1} time\")\n",
    "    count = count+1"
   ]
  },
  {
   "cell_type": "code",
   "execution_count": 1,
   "metadata": {},
   "outputs": [
    {
     "name": "stdout",
     "output_type": "stream",
     "text": [
      "you entered 20\n",
      "this is the 1 score\n",
      "you entered 30\n",
      "this is the 2 score\n",
      "you entered 40\n",
      "this is the 3 score\n",
      "you entered 50\n",
      "this is the 4 score\n",
      "you entered 60\n",
      "this is the 5 score\n",
      "total score is 200 and the average is 40.0 \n"
     ]
    }
   ],
   "source": [
    "\n",
    "count = 0\n",
    "sumscore = 0\n",
    "\n",
    "while count<5:\n",
    "    score = int(input(\"Enter Score: \"))\n",
    "    print(f\"you entered {score}\")\n",
    "    print(f\"this is the {count+1} score\")\n",
    "    sumscore = sumscore + score\n",
    "    count = count+1\n",
    "avg = sumscore/5\n",
    "print(f\"total score is {sumscore} and the average is {avg} \")"
   ]
  },
  {
   "cell_type": "code",
   "execution_count": 8,
   "metadata": {},
   "outputs": [],
   "source": [
    "# how_many=int(input(\"Enter how many users:\"))\n",
    "# count=0\n",
    "# sumscore=0\n",
    "# while count < how_many:\n",
    "#         (\"This is the {how_many}user.\")\n",
    "#         score_count=0\n",
    "#         while score_count> 5:\n",
    "#                 score = int(input(\"Enter Score: \"))\n",
    "#                 print(f\"you entered {score}\")\n",
    "#                 print(f\"this is the {score_count+1} score\")\n",
    "#                 sumscore = sumscore + score\n",
    "#                 score_count= score_count+1\n",
    "#         avg = sumscore/5\n",
    "#         print(f\"total score is {sumscore} and the average is {avg} \")\n",
    "# count=count+1\n",
    " \n"
   ]
  },
  {
   "cell_type": "markdown",
   "metadata": {},
   "source": [
    "The code above is commented out as it generates an infinite loop. A loop that never ends. Jumoke!!! \n",
    "\n",
    "The one below is the solution that uses the list to act as a memory, storing all the scores."
   ]
  },
  {
   "cell_type": "code",
   "execution_count": 5,
   "metadata": {},
   "outputs": [
    {
     "name": "stdout",
     "output_type": "stream",
     "text": [
      "you entered 1\n",
      "this is the 1 score\n",
      "you entered 2\n",
      "this is the 2 score\n",
      "you entered 3\n",
      "this is the 3 score\n",
      "you entered 4\n",
      "this is the 4 score\n",
      "you entered 5\n",
      "this is the 5 score\n",
      " this is the list of scores obtained: [1, 2, 3, 4, 5]\n",
      "total score is 15 and the average is 3.0 \n"
     ]
    }
   ],
   "source": [
    "\n",
    "count = 0\n",
    "sumscore = 0\n",
    "scores = []\n",
    "\n",
    "while count<5:\n",
    "    score = int(input(\"Enter Score: \"))\n",
    "    print(f\"you entered {score}\")\n",
    "    print(f\"this is the {count+1} score\")\n",
    "    scores.append(score)\n",
    "    #sumscore = sumscore + score\n",
    "    count = count+1\n",
    "#avg = sumscore/5\n",
    "print(f\" this is the list of scores obtained: {scores}\")\n",
    "avg = sum(scores)/5\n",
    "print(f\"total score is {sum(scores)} and the average is {avg} \")"
   ]
  },
  {
   "cell_type": "markdown",
   "metadata": {},
   "source": [
    "Below, testing a For loop, for \"n\" users, "
   ]
  },
  {
   "cell_type": "code",
   "execution_count": 8,
   "metadata": {},
   "outputs": [
    {
     "name": "stdout",
     "output_type": "stream",
     "text": [
      "user 1\n",
      "user 2\n",
      "user 3\n",
      "user 4\n",
      "user 5\n"
     ]
    }
   ],
   "source": [
    "users = int(input(\"How many users are you expecting?: \"))\n",
    "\n",
    "for user in range(users):\n",
    "    print(f\"user {user+1}\")"
   ]
  },
  {
   "cell_type": "markdown",
   "metadata": {},
   "source": [
    "Now combining the For loop, with the While loop (nesting the While loop, inside the For loop)"
   ]
  },
  {
   "cell_type": "code",
   "execution_count": 14,
   "metadata": {},
   "outputs": [
    {
     "name": "stdout",
     "output_type": "stream",
     "text": [
      "Enter scores for user 1\n",
      "you entered 12\n",
      "this is the 1 score\n",
      "you entered 13\n",
      "this is the 2 score\n",
      "you entered 14\n",
      "this is the 3 score\n",
      "you entered 15\n",
      "this is the 4 score\n",
      "you entered 34\n",
      "this is the 5 score\n",
      " this is the list of scores obtained: [12, 13, 14, 15, 34]\n",
      "total score for user1 is 88 and the average is 17.6 \n",
      "\n",
      "\n"
     ]
    }
   ],
   "source": [
    "users = int(input(\"How many users are you expecting?: \"))\n",
    "\n",
    "for user in range(users):\n",
    "    print(f\"Enter scores for user {user+1}\")\n",
    "\n",
    "    count = 0\n",
    "    sumscore = 0\n",
    "    scores = []\n",
    "\n",
    "    while count<5:\n",
    "        score = int(input(f\"Enter Score {count+1}: \"))\n",
    "        print(f\"you entered {score}\")\n",
    "        print(f\"this is the {count+1} score\")\n",
    "        scores.append(score)\n",
    "        #sumscore = sumscore + score\n",
    "        count = count+1\n",
    "    #avg = sumscore/5\n",
    "    print(f\" this is the list of scores obtained: {scores}\")\n",
    "    avg = sum(scores)/5\n",
    "    print(f\"total score for user{user+1} is {sum(scores)} and the average is {avg} \\n\\n\")"
   ]
  },
  {
   "cell_type": "markdown",
   "metadata": {},
   "source": [
    "Great!! I have done the working version of the assignment for you all.\n",
    "\n",
    "**NOW, I want you to explain each line of code. Tell me what each line of code does (use a comment)**"
   ]
  },
  {
   "cell_type": "code",
   "execution_count": null,
   "metadata": {},
   "outputs": [],
   "source": [
    "print(\"What if you wanted to populate a dictionary with name and score OR average\")"
   ]
  }
 ],
 "metadata": {
  "kernelspec": {
   "display_name": "Python 3",
   "language": "python",
   "name": "python3"
  },
  "language_info": {
   "codemirror_mode": {
    "name": "ipython",
    "version": 3
   },
   "file_extension": ".py",
   "mimetype": "text/x-python",
   "name": "python",
   "nbconvert_exporter": "python",
   "pygments_lexer": "ipython3",
   "version": "3.10.12"
  }
 },
 "nbformat": 4,
 "nbformat_minor": 2
}
