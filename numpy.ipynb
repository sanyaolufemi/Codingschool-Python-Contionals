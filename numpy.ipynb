{
 "cells": [
  {
   "cell_type": "code",
   "execution_count": 1,
   "metadata": {},
   "outputs": [],
   "source": [
    "import numpy as np\n",
    "my_first_array= np.array([1,2,3,4,5])"
   ]
  },
  {
   "cell_type": "code",
   "execution_count": 3,
   "metadata": {},
   "outputs": [
    {
     "name": "stdout",
     "output_type": "stream",
     "text": [
      "[1 2 3 4 5]\n",
      "This array is of type <class 'numpy.ndarray'>\n",
      "<class 'numpy.ndarray'>\n",
      "this array has 1 dimensions\n"
     ]
    }
   ],
   "source": [
    "print(my_first_array)\n",
    "\n",
    "print(f\"This array is of type {type(my_first_array)}\")\n",
    "\n",
    "#Another way to print the array type\n",
    "print(type(my_first_array))\n",
    "\n",
    "#Number of dimensions (note: a TAble is a 2Dimensional array)\n",
    "print(f\"this array has {my_first_array.ndim} dimensions\")"
   ]
  },
  {
   "cell_type": "code",
   "execution_count": 8,
   "metadata": {},
   "outputs": [
    {
     "name": "stdout",
     "output_type": "stream",
     "text": [
      "this is an array of 5 ones, [1. 1. 1. 1. 1.]\n",
      "this is an array of 5 zeroes, [0. 0. 0. 0. 0.]\n"
     ]
    }
   ],
   "source": [
    "#one can make an array of ones and zeroes, used to fill in, as we clean data\n",
    "\n",
    "ones_array  = np.ones(5)\n",
    "print(f\"this is an array of 5 ones, {ones_array}\")\n",
    "\n",
    "zeros_array  = np.zeros(5)\n",
    "print(f\"this is an array of 5 zeroes, {zeros_array}\")"
   ]
  },
  {
   "cell_type": "code",
   "execution_count": 11,
   "metadata": {},
   "outputs": [
    {
     "name": "stdout",
     "output_type": "stream",
     "text": [
      "this is a grid/2D array: [[20 30 40]\n",
      " [50 60 70]]\n",
      " and it has shape or Size (rows, columns) of (2, 3)\n",
      " and dimension of 2\n"
     ]
    }
   ],
   "source": [
    "#LEt's now work with grids (tables)\n",
    "#first a 2D array\n",
    "grid_array = np.array([[20, 30, 40],\n",
    "                       [50, 60, 70]])\n",
    "print(f\"this is a grid/2D array: {grid_array}\\n and it has shape or Size (rows, columns) of {grid_array.shape}\\n and dimension of {grid_array.ndim}\")"
   ]
  },
  {
   "cell_type": "code",
   "execution_count": null,
   "metadata": {},
   "outputs": [],
   "source": [
    "array1 = np.array([10, 20, 30])\n",
    "array2 = np.array([2,3,4])\n",
    "print(f\"the addition is {}\")"
   ]
  }
 ],
 "metadata": {
  "kernelspec": {
   "display_name": "Python 3",
   "language": "python",
   "name": "python3"
  },
  "language_info": {
   "codemirror_mode": {
    "name": "ipython",
    "version": 3
   },
   "file_extension": ".py",
   "mimetype": "text/x-python",
   "name": "python",
   "nbconvert_exporter": "python",
   "pygments_lexer": "ipython3",
   "version": "3.10.12"
  }
 },
 "nbformat": 4,
 "nbformat_minor": 2
}
